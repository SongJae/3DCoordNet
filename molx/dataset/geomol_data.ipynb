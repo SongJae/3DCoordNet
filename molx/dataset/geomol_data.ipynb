{
 "cells": [
  {
   "cell_type": "code",
   "execution_count": 3,
   "metadata": {},
   "outputs": [
    {
     "name": "stdout",
     "output_type": "stream",
     "text": [
      "bond type:  ((6, 6), 2.0)\n",
      "bond type:  ((6, 6), 1.0)\n",
      "bond type:  ((6, 8), 2.0)\n",
      "bond type:  ((6, 6), 1.0)\n",
      "bond type:  ((6, 7), 2.0)\n",
      "bond type:  ((7, 7), 1.0)\n",
      "bond type:  ((6, 7), 1.0)\n",
      "bond type:  ((6, 7), 1.0)\n"
     ]
    }
   ],
   "source": [
    "from rdkit import Chem\n",
    "\n",
    "mol = Chem.MolFromSmiles(\"C=C1C(=O)C=NN1C.N\")\n",
    "for bond in mol.GetBonds():\n",
    "    bt = tuple(sorted([bond.GetBeginAtom().GetAtomicNum(), bond.GetEndAtom().GetAtomicNum()])), bond.GetBondTypeAsDouble()\n",
    "    print(\"bond type: \", bt)"
   ]
  }
 ],
 "metadata": {
  "kernelspec": {
   "display_name": "Python 3.6.13 ('pred3d')",
   "language": "python",
   "name": "python3"
  },
  "language_info": {
   "codemirror_mode": {
    "name": "ipython",
    "version": 3
   },
   "file_extension": ".py",
   "mimetype": "text/x-python",
   "name": "python",
   "nbconvert_exporter": "python",
   "pygments_lexer": "ipython3",
   "version": "3.6.13"
  },
  "orig_nbformat": 4,
  "vscode": {
   "interpreter": {
    "hash": "fe5f2c51303391961ca53d09d5fdc24152b423129ceae5f9f73dbc7121a45cc5"
   }
  }
 },
 "nbformat": 4,
 "nbformat_minor": 2
}
